{
 "cells": [
  {
   "cell_type": "code",
   "execution_count": 95,
   "metadata": {},
   "outputs": [],
   "source": [
    "from sklearn.preprocessing import LabelEncoder,OneHotEncoder\n",
    "import pandas as pd \n",
    "import matplotlib.pyplot as plt\n",
    "%matplotlib inline\n",
    "import numpy as np \n",
    "import re \n",
    "from nltk.corpus import stopwords\n",
    "from nltk.stem.porter import PorterStemmer \n",
    "from nltk.stem import WordNetLemmatizer\n",
    "from nltk import pos_tag\n",
    "from sklearn.feature_extraction.text import TfidfVectorizer\n",
    "from sklearn.model_selection import train_test_split\n",
    "from sklearn.linear_model import LogisticRegression\n",
    "from sklearn.metrics import classification_report , confusion_matrix"
   ]
  },
  {
   "cell_type": "code",
   "execution_count": 96,
   "metadata": {},
   "outputs": [],
   "source": [
    "test=pd.read_csv('drugsComTest_raw.csv')\n"
   ]
  },
  {
   "cell_type": "code",
   "execution_count": 97,
   "metadata": {},
   "outputs": [],
   "source": [
    "train=pd.read_csv('drugsComTrain_raw.csv')"
   ]
  },
  {
   "cell_type": "code",
   "execution_count": 98,
   "metadata": {},
   "outputs": [],
   "source": [
    "df=train.append(test)"
   ]
  },
  {
   "cell_type": "code",
   "execution_count": 99,
   "metadata": {},
   "outputs": [
    {
     "data": {
      "text/plain": [
       "0    \"It has no side effect, I take it in combinati...\n",
       "1    \"My son is halfway through his fourth week of ...\n",
       "2    \"I used to take another oral contraceptive, wh...\n",
       "3    \"This is my first time using any form of birth...\n",
       "4    \"Suboxone has completely turned my life around...\n",
       "Name: review, dtype: object"
      ]
     },
     "execution_count": 99,
     "metadata": {},
     "output_type": "execute_result"
    }
   ],
   "source": [
    "df['review'].head()"
   ]
  },
  {
   "cell_type": "code",
   "execution_count": 100,
   "metadata": {},
   "outputs": [],
   "source": [
    "clean = pd.read_csv('x_cleansed.csv',names=['review'] )"
   ]
  },
  {
   "cell_type": "code",
   "execution_count": 101,
   "metadata": {},
   "outputs": [
    {
     "data": {
      "text/html": [
       "<div>\n",
       "<style scoped>\n",
       "    .dataframe tbody tr th:only-of-type {\n",
       "        vertical-align: middle;\n",
       "    }\n",
       "\n",
       "    .dataframe tbody tr th {\n",
       "        vertical-align: top;\n",
       "    }\n",
       "\n",
       "    .dataframe thead th {\n",
       "        text-align: right;\n",
       "    }\n",
       "</style>\n",
       "<table border=\"1\" class=\"dataframe\">\n",
       "  <thead>\n",
       "    <tr style=\"text-align: right;\">\n",
       "      <th></th>\n",
       "      <th>review</th>\n",
       "    </tr>\n",
       "  </thead>\n",
       "  <tbody>\n",
       "    <tr>\n",
       "      <th>0</th>\n",
       "      <td>side effect  take combination bystolic   mg f...</td>\n",
       "    </tr>\n",
       "    <tr>\n",
       "      <th>1</th>\n",
       "      <td>son halfway fourth week intuniv  became conce...</td>\n",
       "    </tr>\n",
       "    <tr>\n",
       "      <th>2</th>\n",
       "      <td>used take another oral contraceptive     pill...</td>\n",
       "    </tr>\n",
       "    <tr>\n",
       "      <th>3</th>\n",
       "      <td>first time using form birth control       gla...</td>\n",
       "    </tr>\n",
       "    <tr>\n",
       "      <th>4</th>\n",
       "      <td>suboxone completely turned life around   feel...</td>\n",
       "    </tr>\n",
       "  </tbody>\n",
       "</table>\n",
       "</div>"
      ],
      "text/plain": [
       "                                              review\n",
       "0   side effect  take combination bystolic   mg f...\n",
       "1   son halfway fourth week intuniv  became conce...\n",
       "2   used take another oral contraceptive     pill...\n",
       "3   first time using form birth control       gla...\n",
       "4   suboxone completely turned life around   feel..."
      ]
     },
     "execution_count": 101,
     "metadata": {},
     "output_type": "execute_result"
    }
   ],
   "source": [
    "clean.head()"
   ]
  },
  {
   "cell_type": "code",
   "execution_count": 102,
   "metadata": {},
   "outputs": [],
   "source": [
    "df['review'] = clean['review']"
   ]
  },
  {
   "cell_type": "code",
   "execution_count": 103,
   "metadata": {},
   "outputs": [
    {
     "data": {
      "text/html": [
       "<div>\n",
       "<style scoped>\n",
       "    .dataframe tbody tr th:only-of-type {\n",
       "        vertical-align: middle;\n",
       "    }\n",
       "\n",
       "    .dataframe tbody tr th {\n",
       "        vertical-align: top;\n",
       "    }\n",
       "\n",
       "    .dataframe thead th {\n",
       "        text-align: right;\n",
       "    }\n",
       "</style>\n",
       "<table border=\"1\" class=\"dataframe\">\n",
       "  <thead>\n",
       "    <tr style=\"text-align: right;\">\n",
       "      <th></th>\n",
       "      <th>uniqueID</th>\n",
       "      <th>drugName</th>\n",
       "      <th>condition</th>\n",
       "      <th>review</th>\n",
       "      <th>rating</th>\n",
       "      <th>date</th>\n",
       "      <th>usefulCount</th>\n",
       "    </tr>\n",
       "  </thead>\n",
       "  <tbody>\n",
       "    <tr>\n",
       "      <th>0</th>\n",
       "      <td>206461</td>\n",
       "      <td>Valsartan</td>\n",
       "      <td>Left Ventricular Dysfunction</td>\n",
       "      <td>side effect  take combination bystolic   mg f...</td>\n",
       "      <td>9</td>\n",
       "      <td>20-May-12</td>\n",
       "      <td>27</td>\n",
       "    </tr>\n",
       "    <tr>\n",
       "      <th>1</th>\n",
       "      <td>95260</td>\n",
       "      <td>Guanfacine</td>\n",
       "      <td>ADHD</td>\n",
       "      <td>son halfway fourth week intuniv  became conce...</td>\n",
       "      <td>8</td>\n",
       "      <td>27-Apr-10</td>\n",
       "      <td>192</td>\n",
       "    </tr>\n",
       "    <tr>\n",
       "      <th>2</th>\n",
       "      <td>92703</td>\n",
       "      <td>Lybrel</td>\n",
       "      <td>Birth Control</td>\n",
       "      <td>used take another oral contraceptive     pill...</td>\n",
       "      <td>5</td>\n",
       "      <td>14-Dec-09</td>\n",
       "      <td>17</td>\n",
       "    </tr>\n",
       "    <tr>\n",
       "      <th>3</th>\n",
       "      <td>138000</td>\n",
       "      <td>Ortho Evra</td>\n",
       "      <td>Birth Control</td>\n",
       "      <td>first time using form birth control       gla...</td>\n",
       "      <td>8</td>\n",
       "      <td>3-Nov-15</td>\n",
       "      <td>10</td>\n",
       "    </tr>\n",
       "    <tr>\n",
       "      <th>4</th>\n",
       "      <td>35696</td>\n",
       "      <td>Buprenorphine / naloxone</td>\n",
       "      <td>Opiate Dependence</td>\n",
       "      <td>suboxone completely turned life around   feel...</td>\n",
       "      <td>9</td>\n",
       "      <td>27-Nov-16</td>\n",
       "      <td>37</td>\n",
       "    </tr>\n",
       "  </tbody>\n",
       "</table>\n",
       "</div>"
      ],
      "text/plain": [
       "   uniqueID                  drugName                     condition  \\\n",
       "0    206461                 Valsartan  Left Ventricular Dysfunction   \n",
       "1     95260                Guanfacine                          ADHD   \n",
       "2     92703                    Lybrel                 Birth Control   \n",
       "3    138000                Ortho Evra                 Birth Control   \n",
       "4     35696  Buprenorphine / naloxone             Opiate Dependence   \n",
       "\n",
       "                                              review  rating       date  \\\n",
       "0   side effect  take combination bystolic   mg f...       9  20-May-12   \n",
       "1   son halfway fourth week intuniv  became conce...       8  27-Apr-10   \n",
       "2   used take another oral contraceptive     pill...       5  14-Dec-09   \n",
       "3   first time using form birth control       gla...       8   3-Nov-15   \n",
       "4   suboxone completely turned life around   feel...       9  27-Nov-16   \n",
       "\n",
       "   usefulCount  \n",
       "0           27  \n",
       "1          192  \n",
       "2           17  \n",
       "3           10  \n",
       "4           37  "
      ]
     },
     "execution_count": 103,
     "metadata": {},
     "output_type": "execute_result"
    }
   ],
   "source": [
    "df.head()"
   ]
  },
  {
   "cell_type": "code",
   "execution_count": 104,
   "metadata": {},
   "outputs": [
    {
     "data": {
      "text/plain": [
       "(215063, 7)"
      ]
     },
     "execution_count": 104,
     "metadata": {},
     "output_type": "execute_result"
    }
   ],
   "source": [
    "df.shape"
   ]
  },
  {
   "cell_type": "markdown",
   "metadata": {},
   "source": [
    "### remove the least frequent items in the drugname because it may lead us to bias the data  "
   ]
  },
  {
   "cell_type": "code",
   "execution_count": 105,
   "metadata": {},
   "outputs": [],
   "source": [
    "key = list(df['drugName'].value_counts().to_dict().keys())\n",
    "value = list(df['drugName'].value_counts().to_dict().values())"
   ]
  },
  {
   "cell_type": "code",
   "execution_count": 106,
   "metadata": {},
   "outputs": [],
   "source": [
    "to_drop = []\n",
    "for i in range(len(key)):\n",
    "    if value[i] < 50:\n",
    "        to_drop.append(key[i])"
   ]
  },
  {
   "cell_type": "code",
   "execution_count": 107,
   "metadata": {},
   "outputs": [],
   "source": [
    "combined=df[~df['drugName'].isin(to_drop )]\n"
   ]
  },
  {
   "cell_type": "code",
   "execution_count": 108,
   "metadata": {},
   "outputs": [
    {
     "data": {
      "text/plain": [
       "((188990, 7), (215063, 7))"
      ]
     },
     "execution_count": 108,
     "metadata": {},
     "output_type": "execute_result"
    }
   ],
   "source": [
    "combined.shape , df.shape "
   ]
  },
  {
   "cell_type": "code",
   "execution_count": 109,
   "metadata": {},
   "outputs": [
    {
     "data": {
      "text/plain": [
       "Levonorgestrel                             4930\n",
       "Etonogestrel                               4421\n",
       "Ethinyl estradiol / norethindrone          3753\n",
       "Nexplanon                                  2892\n",
       "Ethinyl estradiol / norgestimate           2790\n",
       "Ethinyl estradiol / levonorgestrel         2503\n",
       "Phentermine                                2085\n",
       "Sertraline                                 1868\n",
       "Escitalopram                               1747\n",
       "Mirena                                     1673\n",
       "Implanon                                   1506\n",
       "Gabapentin                                 1415\n",
       "Bupropion                                  1369\n",
       "Miconazole                                 1344\n",
       "Venlafaxine                                1338\n",
       "Medroxyprogesterone                        1308\n",
       "Citalopram                                 1308\n",
       "Duloxetine                                 1256\n",
       "Lexapro                                    1250\n",
       "Bupropion / naltrexone                     1249\n",
       "Contrave                                   1215\n",
       "Metronidazole                              1207\n",
       "Drospirenone / ethinyl estradiol           1184\n",
       "Depo-Provera                               1155\n",
       "Clonazepam                                 1146\n",
       "Cymbalta                                   1142\n",
       "Tramadol                                   1138\n",
       "Varenicline                                1090\n",
       "Zoloft                                     1086\n",
       "Quetiapine                                 1077\n",
       "                                           ... \n",
       "Compazine                                    53\n",
       "Azor                                         53\n",
       "Amlodipine / olmesartan                      53\n",
       "Zubsolv                                      53\n",
       "Lupron                                       53\n",
       "Apixaban                                     53\n",
       "Vaniqa                                       52\n",
       "Ocular lubricant                             52\n",
       "Colesevelam                                  52\n",
       "Prevacid                                     52\n",
       "Nabumetone                                   52\n",
       "Protonix                                     52\n",
       "Dalfampridine                                52\n",
       "Pentasa                                      52\n",
       "Ampyra                                       52\n",
       "Tinidazole                                   51\n",
       "Fluoxetine / olanzapine                      51\n",
       "Loratadine                                   51\n",
       "Anafranil                                    51\n",
       "Jardiance                                    51\n",
       "Antabuse                                     50\n",
       "Estrace Vaginal Cream                        50\n",
       "Dilantin                                     50\n",
       "Tenuate                                      50\n",
       "Emtricitabine / rilpivirine / tenofovir      50\n",
       "Cozaar                                       50\n",
       "Complera                                     50\n",
       "Lidoderm                                     50\n",
       "Rabeprazole                                  50\n",
       "Ortho Cyclen                                 50\n",
       "Name: drugName, Length: 690, dtype: int64"
      ]
     },
     "execution_count": 109,
     "metadata": {},
     "output_type": "execute_result"
    }
   ],
   "source": [
    "combined.drugName.value_counts()"
   ]
  },
  {
   "cell_type": "code",
   "execution_count": 110,
   "metadata": {},
   "outputs": [
    {
     "data": {
      "text/plain": [
       "Index(['uniqueID', 'drugName', 'condition', 'review', 'rating', 'date',\n",
       "       'usefulCount'],\n",
       "      dtype='object')"
      ]
     },
     "execution_count": 110,
     "metadata": {},
     "output_type": "execute_result"
    }
   ],
   "source": [
    "combined.columns"
   ]
  },
  {
   "cell_type": "code",
   "execution_count": 111,
   "metadata": {},
   "outputs": [],
   "source": [
    "def to_cat (value):\n",
    "    if (value <= 4 ):\n",
    "        val = 0\n",
    "    elif (value < 8 ):\n",
    "        val = 1\n",
    "    else:\n",
    "        val = 2\n",
    "    return val"
   ]
  },
  {
   "cell_type": "code",
   "execution_count": 112,
   "metadata": {},
   "outputs": [
    {
     "name": "stderr",
     "output_type": "stream",
     "text": [
      "C:\\Users\\A7md\\Anaconda3\\lib\\site-packages\\ipykernel_launcher.py:1: SettingWithCopyWarning: \n",
      "A value is trying to be set on a copy of a slice from a DataFrame.\n",
      "Try using .loc[row_indexer,col_indexer] = value instead\n",
      "\n",
      "See the caveats in the documentation: http://pandas.pydata.org/pandas-docs/stable/indexing.html#indexing-view-versus-copy\n",
      "  \"\"\"Entry point for launching an IPython kernel.\n"
     ]
    }
   ],
   "source": [
    "combined['rating'] = combined['rating'].apply(to_cat)"
   ]
  },
  {
   "cell_type": "code",
   "execution_count": 113,
   "metadata": {},
   "outputs": [
    {
     "data": {
      "text/plain": [
       "2    112679\n",
       "0     47760\n",
       "1     28551\n",
       "Name: rating, dtype: int64"
      ]
     },
     "execution_count": 113,
     "metadata": {},
     "output_type": "execute_result"
    }
   ],
   "source": [
    "combined['rating'].value_counts()"
   ]
  },
  {
   "cell_type": "markdown",
   "metadata": {},
   "source": [
    "### remove the least frequent items in the condition  because it may lead us to bias the data  "
   ]
  },
  {
   "cell_type": "code",
   "execution_count": null,
   "metadata": {},
   "outputs": [],
   "source": [
    "keys = list(combined['condition'].value_counts().to_dict().keys())\n",
    "values = list(combined['condition'].value_counts().to_dict().values())"
   ]
  },
  {
   "cell_type": "code",
   "execution_count": 116,
   "metadata": {},
   "outputs": [],
   "source": [
    "to_drop = []\n",
    "for i in range(len(keys)):\n",
    "    if values[i] < 50:\n",
    "        to_drop.append(keys[i])"
   ]
  },
  {
   "cell_type": "code",
   "execution_count": 117,
   "metadata": {},
   "outputs": [],
   "source": [
    "combined=combined[~combined['condition'].isin(to_drop )]"
   ]
  },
  {
   "cell_type": "code",
   "execution_count": 118,
   "metadata": {},
   "outputs": [
    {
     "data": {
      "text/plain": [
       "(184930, 7)"
      ]
     },
     "execution_count": 118,
     "metadata": {},
     "output_type": "execute_result"
    }
   ],
   "source": [
    "combined.shape"
   ]
  },
  {
   "cell_type": "code",
   "execution_count": 119,
   "metadata": {},
   "outputs": [
    {
     "data": {
      "text/plain": [
       "uniqueID       184930\n",
       "drugName       184930\n",
       "condition      183857\n",
       "review         184930\n",
       "rating         184930\n",
       "date           184930\n",
       "usefulCount    184930\n",
       "dtype: int64"
      ]
     },
     "execution_count": 119,
     "metadata": {},
     "output_type": "execute_result"
    }
   ],
   "source": [
    "combined.count()"
   ]
  },
  {
   "cell_type": "code",
   "execution_count": 120,
   "metadata": {},
   "outputs": [
    {
     "data": {
      "text/plain": [
       "uniqueID          0\n",
       "drugName          0\n",
       "condition      1073\n",
       "review            0\n",
       "rating            0\n",
       "date              0\n",
       "usefulCount       0\n",
       "dtype: int64"
      ]
     },
     "execution_count": 120,
     "metadata": {},
     "output_type": "execute_result"
    }
   ],
   "source": [
    "combined.isna().sum()"
   ]
  },
  {
   "cell_type": "code",
   "execution_count": 121,
   "metadata": {
    "scrolled": true
   },
   "outputs": [
    {
     "data": {
      "text/plain": [
       "Birth Control                                                 37498\n",
       "Depression                                                    11823\n",
       "Anxiety                                                        7624\n",
       "Pain                                                           7240\n",
       "Acne                                                           6961\n",
       "Bipolar Disorde                                                5480\n",
       "Weight Loss                                                    4790\n",
       "Obesity                                                        4673\n",
       "Insomnia                                                       4521\n",
       "ADHD                                                           4252\n",
       "Emergency Contraception                                        3211\n",
       "Vaginal Yeast Infection                                        2999\n",
       "Diabetes, Type 2                                               2737\n",
       "Abnormal Uterine Bleeding                                      2674\n",
       "Bowel Preparation                                              2413\n",
       "ibromyalgia                                                    2341\n",
       "Smoking Cessation                                              2333\n",
       "Anxiety and Stress                                             2232\n",
       "High Blood Pressure                                            2145\n",
       "Major Depressive Disorde                                       2107\n",
       "Constipation                                                   1915\n",
       "Panic Disorde                                                  1871\n",
       "Migraine                                                       1866\n",
       "Migraine Prevention                                            1786\n",
       "Chronic Pain                                                   1704\n",
       "Urinary Tract Infection                                        1625\n",
       "Generalized Anxiety Disorde                                    1537\n",
       "Opiate Dependence                                              1431\n",
       "Muscle Spasm                                                   1386\n",
       "Osteoarthritis                                                 1328\n",
       "                                                              ...  \n",
       "Systemic Lupus Erythematosus                                     74\n",
       "atigue                                                           72\n",
       "Erosive Esophagitis                                              72\n",
       "Allergic Reactions                                               70\n",
       "Hypersomnia                                                      68\n",
       "4</span> users found this comment helpful.                       68\n",
       "COPD                                                             68\n",
       "Atopic Dermatitis                                                67\n",
       "Reflex Sympathetic Dystrophy Syndrome                            67\n",
       "Uterine Fibroids                                                 66\n",
       "Prevention of Bladder infection                                  65\n",
       "Cervical Dystonia                                                65\n",
       "Asthma, acute                                                    62\n",
       "Pseudotumor Cerebri                                              61\n",
       "Dysuria                                                          60\n",
       "Mania                                                            59\n",
       "Periodic Limb Movement Disorde                                   59\n",
       "Edema                                                            57\n",
       "Muscle Pain                                                      57\n",
       "Vitamin/Mineral Supplementation during Pregnancy/Lactation       57\n",
       "Perimenopausal Symptoms                                          56\n",
       "Opioid-Induced Constipation                                      56\n",
       "Tendonitis                                                       56\n",
       "Androgenetic Alopecia                                            54\n",
       "Basal Cell Carcinoma                                             54\n",
       "Tourette's Syndrome                                              54\n",
       "Stomach Ulce                                                     52\n",
       "emale Infertility                                                51\n",
       "Menorrhagia                                                      50\n",
       "Gastroparesis                                                    50\n",
       "Name: condition, Length: 197, dtype: int64"
      ]
     },
     "execution_count": 121,
     "metadata": {},
     "output_type": "execute_result"
    }
   ],
   "source": [
    "combined['condition'].value_counts()"
   ]
  },
  {
   "cell_type": "code",
   "execution_count": 122,
   "metadata": {},
   "outputs": [
    {
     "data": {
      "text/plain": [
       "(184930, 7)"
      ]
     },
     "execution_count": 122,
     "metadata": {},
     "output_type": "execute_result"
    }
   ],
   "source": [
    "combined.shape"
   ]
  },
  {
   "cell_type": "markdown",
   "metadata": {},
   "source": [
    "### drop missing values if exist "
   ]
  },
  {
   "cell_type": "code",
   "execution_count": 123,
   "metadata": {},
   "outputs": [],
   "source": [
    "combined = combined.dropna(axis=0, how='any')\n",
    "#combined['condition'].fillna(combined.groupby('drugName')['condition'].transform(\"mean\") , inplace = True)"
   ]
  },
  {
   "cell_type": "code",
   "execution_count": 124,
   "metadata": {},
   "outputs": [
    {
     "data": {
      "text/plain": [
       "(183857, 7)"
      ]
     },
     "execution_count": 124,
     "metadata": {},
     "output_type": "execute_result"
    }
   ],
   "source": [
    "combined.shape\n",
    "#combined.groupby(['drugName','condition']).agg(lambda x: x.value_counts().index[0])"
   ]
  },
  {
   "cell_type": "code",
   "execution_count": 125,
   "metadata": {},
   "outputs": [],
   "source": [
    "x  = combined['review']\n",
    "y  = combined['rating']"
   ]
  },
  {
   "cell_type": "markdown",
   "metadata": {},
   "source": [
    "### perform the tfidf model on the data to calculate the weighted wods "
   ]
  },
  {
   "cell_type": "code",
   "execution_count": 126,
   "metadata": {},
   "outputs": [],
   "source": [
    "tfidf = TfidfVectorizer()\n",
    "# x = tfidf.fit_transform(data[\"title\"]).toarray()"
   ]
  },
  {
   "cell_type": "code",
   "execution_count": 127,
   "metadata": {},
   "outputs": [],
   "source": [
    "x_train,x_test,y_train,y_test = train_test_split(x,y,test_size=0.25)"
   ]
  },
  {
   "cell_type": "code",
   "execution_count": 128,
   "metadata": {},
   "outputs": [
    {
     "name": "stdout",
     "output_type": "stream",
     "text": [
      "(137892,) (137892,)\n",
      "(45965,) (45965,)\n"
     ]
    }
   ],
   "source": [
    "print (x_train.shape, y_train.shape)\n",
    "print (x_test.shape, y_test.shape)"
   ]
  },
  {
   "cell_type": "code",
   "execution_count": 129,
   "metadata": {},
   "outputs": [],
   "source": [
    "model = tfidf.fit_transform(x_train)\n",
    "predection = tfidf.transform(x_test)"
   ]
  },
  {
   "cell_type": "code",
   "execution_count": 130,
   "metadata": {},
   "outputs": [
    {
     "name": "stderr",
     "output_type": "stream",
     "text": [
      "C:\\Users\\A7md\\Anaconda3\\lib\\site-packages\\sklearn\\linear_model\\logistic.py:433: FutureWarning: Default solver will be changed to 'lbfgs' in 0.22. Specify a solver to silence this warning.\n",
      "  FutureWarning)\n",
      "C:\\Users\\A7md\\Anaconda3\\lib\\site-packages\\sklearn\\linear_model\\logistic.py:460: FutureWarning: Default multi_class will be changed to 'auto' in 0.22. Specify the multi_class option to silence this warning.\n",
      "  \"this warning.\", FutureWarning)\n"
     ]
    },
    {
     "name": "stdout",
     "output_type": "stream",
     "text": [
      "0.7433917110845208\n",
      "              precision    recall  f1-score   support\n",
      "\n",
      "           0       0.70      0.69      0.69     11619\n",
      "           1       0.48      0.13      0.20      6927\n",
      "           2       0.77      0.92      0.84     27419\n",
      "\n",
      "   micro avg       0.74      0.74      0.74     45965\n",
      "   macro avg       0.65      0.58      0.58     45965\n",
      "weighted avg       0.71      0.74      0.71     45965\n",
      "\n"
     ]
    }
   ],
   "source": [
    "lr = LogisticRegression(random_state=0)\n",
    "lr.fit(model, y_train)\n",
    "print (lr.score(predection,y_test))\n",
    "y_pred = lr.predict(predection)\n",
    "print(classification_report(y_test, y_pred))\n"
   ]
  }
 ],
 "metadata": {
  "kernelspec": {
   "display_name": "Python 3",
   "language": "python",
   "name": "python3"
  },
  "language_info": {
   "codemirror_mode": {
    "name": "ipython",
    "version": 3
   },
   "file_extension": ".py",
   "mimetype": "text/x-python",
   "name": "python",
   "nbconvert_exporter": "python",
   "pygments_lexer": "ipython3",
   "version": "3.6.5"
  }
 },
 "nbformat": 4,
 "nbformat_minor": 2
}
