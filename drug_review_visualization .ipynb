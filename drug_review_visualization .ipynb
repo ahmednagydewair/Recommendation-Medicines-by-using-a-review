{
 "cells": [
  {
   "cell_type": "code",
   "execution_count": 1,
   "metadata": {},
   "outputs": [],
   "source": [
    "import pandas as pd"
   ]
  },
  {
   "cell_type": "code",
   "execution_count": 2,
   "metadata": {},
   "outputs": [],
   "source": [
    "df1=pd.read_csv('drugsComTrain_raw.csv')\n",
    "df2=pd.read_csv('drugsComTest_raw.csv')"
   ]
  },
  {
   "cell_type": "code",
   "execution_count": 3,
   "metadata": {},
   "outputs": [
    {
     "data": {
      "text/html": [
       "<div>\n",
       "<style scoped>\n",
       "    .dataframe tbody tr th:only-of-type {\n",
       "        vertical-align: middle;\n",
       "    }\n",
       "\n",
       "    .dataframe tbody tr th {\n",
       "        vertical-align: top;\n",
       "    }\n",
       "\n",
       "    .dataframe thead th {\n",
       "        text-align: right;\n",
       "    }\n",
       "</style>\n",
       "<table border=\"1\" class=\"dataframe\">\n",
       "  <thead>\n",
       "    <tr style=\"text-align: right;\">\n",
       "      <th></th>\n",
       "      <th>uniqueID</th>\n",
       "      <th>drugName</th>\n",
       "      <th>condition</th>\n",
       "      <th>review</th>\n",
       "      <th>rating</th>\n",
       "      <th>date</th>\n",
       "      <th>usefulCount</th>\n",
       "    </tr>\n",
       "  </thead>\n",
       "  <tbody>\n",
       "    <tr>\n",
       "      <th>0</th>\n",
       "      <td>206461</td>\n",
       "      <td>Valsartan</td>\n",
       "      <td>Left Ventricular Dysfunction</td>\n",
       "      <td>\"It has no side effect, I take it in combinati...</td>\n",
       "      <td>9</td>\n",
       "      <td>20-May-12</td>\n",
       "      <td>27</td>\n",
       "    </tr>\n",
       "    <tr>\n",
       "      <th>1</th>\n",
       "      <td>95260</td>\n",
       "      <td>Guanfacine</td>\n",
       "      <td>ADHD</td>\n",
       "      <td>\"My son is halfway through his fourth week of ...</td>\n",
       "      <td>8</td>\n",
       "      <td>27-Apr-10</td>\n",
       "      <td>192</td>\n",
       "    </tr>\n",
       "    <tr>\n",
       "      <th>2</th>\n",
       "      <td>92703</td>\n",
       "      <td>Lybrel</td>\n",
       "      <td>Birth Control</td>\n",
       "      <td>\"I used to take another oral contraceptive, wh...</td>\n",
       "      <td>5</td>\n",
       "      <td>14-Dec-09</td>\n",
       "      <td>17</td>\n",
       "    </tr>\n",
       "  </tbody>\n",
       "</table>\n",
       "</div>"
      ],
      "text/plain": [
       "   uniqueID    drugName                     condition  \\\n",
       "0    206461   Valsartan  Left Ventricular Dysfunction   \n",
       "1     95260  Guanfacine                          ADHD   \n",
       "2     92703      Lybrel                 Birth Control   \n",
       "\n",
       "                                              review  rating       date  \\\n",
       "0  \"It has no side effect, I take it in combinati...       9  20-May-12   \n",
       "1  \"My son is halfway through his fourth week of ...       8  27-Apr-10   \n",
       "2  \"I used to take another oral contraceptive, wh...       5  14-Dec-09   \n",
       "\n",
       "   usefulCount  \n",
       "0           27  \n",
       "1          192  \n",
       "2           17  "
      ]
     },
     "execution_count": 3,
     "metadata": {},
     "output_type": "execute_result"
    }
   ],
   "source": [
    "df1.head(3)"
   ]
  },
  {
   "cell_type": "code",
   "execution_count": 4,
   "metadata": {},
   "outputs": [
    {
     "data": {
      "text/html": [
       "<div>\n",
       "<style scoped>\n",
       "    .dataframe tbody tr th:only-of-type {\n",
       "        vertical-align: middle;\n",
       "    }\n",
       "\n",
       "    .dataframe tbody tr th {\n",
       "        vertical-align: top;\n",
       "    }\n",
       "\n",
       "    .dataframe thead th {\n",
       "        text-align: right;\n",
       "    }\n",
       "</style>\n",
       "<table border=\"1\" class=\"dataframe\">\n",
       "  <thead>\n",
       "    <tr style=\"text-align: right;\">\n",
       "      <th></th>\n",
       "      <th>uniqueID</th>\n",
       "      <th>drugName</th>\n",
       "      <th>condition</th>\n",
       "      <th>review</th>\n",
       "      <th>rating</th>\n",
       "      <th>date</th>\n",
       "      <th>usefulCount</th>\n",
       "    </tr>\n",
       "  </thead>\n",
       "  <tbody>\n",
       "    <tr>\n",
       "      <th>0</th>\n",
       "      <td>163740</td>\n",
       "      <td>Mirtazapine</td>\n",
       "      <td>Depression</td>\n",
       "      <td>\"I&amp;#039;ve tried a few antidepressants over th...</td>\n",
       "      <td>10</td>\n",
       "      <td>28-Feb-12</td>\n",
       "      <td>22</td>\n",
       "    </tr>\n",
       "    <tr>\n",
       "      <th>1</th>\n",
       "      <td>206473</td>\n",
       "      <td>Mesalamine</td>\n",
       "      <td>Crohn's Disease, Maintenance</td>\n",
       "      <td>\"My son has Crohn&amp;#039;s disease and has done ...</td>\n",
       "      <td>8</td>\n",
       "      <td>17-May-09</td>\n",
       "      <td>17</td>\n",
       "    </tr>\n",
       "    <tr>\n",
       "      <th>2</th>\n",
       "      <td>159672</td>\n",
       "      <td>Bactrim</td>\n",
       "      <td>Urinary Tract Infection</td>\n",
       "      <td>\"Quick reduction of symptoms\"</td>\n",
       "      <td>9</td>\n",
       "      <td>29-Sep-17</td>\n",
       "      <td>3</td>\n",
       "    </tr>\n",
       "  </tbody>\n",
       "</table>\n",
       "</div>"
      ],
      "text/plain": [
       "   uniqueID     drugName                     condition  \\\n",
       "0    163740  Mirtazapine                    Depression   \n",
       "1    206473   Mesalamine  Crohn's Disease, Maintenance   \n",
       "2    159672      Bactrim       Urinary Tract Infection   \n",
       "\n",
       "                                              review  rating       date  \\\n",
       "0  \"I&#039;ve tried a few antidepressants over th...      10  28-Feb-12   \n",
       "1  \"My son has Crohn&#039;s disease and has done ...       8  17-May-09   \n",
       "2                      \"Quick reduction of symptoms\"       9  29-Sep-17   \n",
       "\n",
       "   usefulCount  \n",
       "0           22  \n",
       "1           17  \n",
       "2            3  "
      ]
     },
     "execution_count": 4,
     "metadata": {},
     "output_type": "execute_result"
    }
   ],
   "source": [
    "df2.head(3)"
   ]
  },
  {
   "cell_type": "code",
   "execution_count": 5,
   "metadata": {},
   "outputs": [
    {
     "data": {
      "text/plain": [
       "((161297, 7), (53766, 7))"
      ]
     },
     "execution_count": 5,
     "metadata": {},
     "output_type": "execute_result"
    }
   ],
   "source": [
    "df1.shape,df2.shape"
   ]
  },
  {
   "cell_type": "code",
   "execution_count": 6,
   "metadata": {},
   "outputs": [],
   "source": [
    "combined = df1.append(df2)\n",
    "combined.reset_index(inplace=True)"
   ]
  },
  {
   "cell_type": "code",
   "execution_count": 7,
   "metadata": {},
   "outputs": [
    {
     "data": {
      "text/html": [
       "<div>\n",
       "<style scoped>\n",
       "    .dataframe tbody tr th:only-of-type {\n",
       "        vertical-align: middle;\n",
       "    }\n",
       "\n",
       "    .dataframe tbody tr th {\n",
       "        vertical-align: top;\n",
       "    }\n",
       "\n",
       "    .dataframe thead th {\n",
       "        text-align: right;\n",
       "    }\n",
       "</style>\n",
       "<table border=\"1\" class=\"dataframe\">\n",
       "  <thead>\n",
       "    <tr style=\"text-align: right;\">\n",
       "      <th></th>\n",
       "      <th>index</th>\n",
       "      <th>uniqueID</th>\n",
       "      <th>drugName</th>\n",
       "      <th>condition</th>\n",
       "      <th>review</th>\n",
       "      <th>rating</th>\n",
       "      <th>date</th>\n",
       "      <th>usefulCount</th>\n",
       "    </tr>\n",
       "  </thead>\n",
       "  <tbody>\n",
       "    <tr>\n",
       "      <th>0</th>\n",
       "      <td>0</td>\n",
       "      <td>206461</td>\n",
       "      <td>Valsartan</td>\n",
       "      <td>Left Ventricular Dysfunction</td>\n",
       "      <td>\"It has no side effect, I take it in combinati...</td>\n",
       "      <td>9</td>\n",
       "      <td>20-May-12</td>\n",
       "      <td>27</td>\n",
       "    </tr>\n",
       "    <tr>\n",
       "      <th>1</th>\n",
       "      <td>1</td>\n",
       "      <td>95260</td>\n",
       "      <td>Guanfacine</td>\n",
       "      <td>ADHD</td>\n",
       "      <td>\"My son is halfway through his fourth week of ...</td>\n",
       "      <td>8</td>\n",
       "      <td>27-Apr-10</td>\n",
       "      <td>192</td>\n",
       "    </tr>\n",
       "    <tr>\n",
       "      <th>2</th>\n",
       "      <td>2</td>\n",
       "      <td>92703</td>\n",
       "      <td>Lybrel</td>\n",
       "      <td>Birth Control</td>\n",
       "      <td>\"I used to take another oral contraceptive, wh...</td>\n",
       "      <td>5</td>\n",
       "      <td>14-Dec-09</td>\n",
       "      <td>17</td>\n",
       "    </tr>\n",
       "  </tbody>\n",
       "</table>\n",
       "</div>"
      ],
      "text/plain": [
       "   index  uniqueID    drugName                     condition  \\\n",
       "0      0    206461   Valsartan  Left Ventricular Dysfunction   \n",
       "1      1     95260  Guanfacine                          ADHD   \n",
       "2      2     92703      Lybrel                 Birth Control   \n",
       "\n",
       "                                              review  rating       date  \\\n",
       "0  \"It has no side effect, I take it in combinati...       9  20-May-12   \n",
       "1  \"My son is halfway through his fourth week of ...       8  27-Apr-10   \n",
       "2  \"I used to take another oral contraceptive, wh...       5  14-Dec-09   \n",
       "\n",
       "   usefulCount  \n",
       "0           27  \n",
       "1          192  \n",
       "2           17  "
      ]
     },
     "execution_count": 7,
     "metadata": {},
     "output_type": "execute_result"
    }
   ],
   "source": [
    "combined.head(3)"
   ]
  },
  {
   "cell_type": "code",
   "execution_count": 8,
   "metadata": {},
   "outputs": [
    {
     "data": {
      "text/plain": [
       "(215063, 8)"
      ]
     },
     "execution_count": 8,
     "metadata": {},
     "output_type": "execute_result"
    }
   ],
   "source": [
    "combined.shape"
   ]
  },
  {
   "cell_type": "code",
   "execution_count": 9,
   "metadata": {},
   "outputs": [],
   "source": [
    "combined.drop(['index'], inplace=True, axis=1)\n",
    "combined.to_csv('drug reviews combined.csv')"
   ]
  },
  {
   "cell_type": "code",
   "execution_count": 10,
   "metadata": {},
   "outputs": [
    {
     "data": {
      "text/html": [
       "<div>\n",
       "<style scoped>\n",
       "    .dataframe tbody tr th:only-of-type {\n",
       "        vertical-align: middle;\n",
       "    }\n",
       "\n",
       "    .dataframe tbody tr th {\n",
       "        vertical-align: top;\n",
       "    }\n",
       "\n",
       "    .dataframe thead th {\n",
       "        text-align: right;\n",
       "    }\n",
       "</style>\n",
       "<table border=\"1\" class=\"dataframe\">\n",
       "  <thead>\n",
       "    <tr style=\"text-align: right;\">\n",
       "      <th></th>\n",
       "      <th>uniqueID</th>\n",
       "      <th>drugName</th>\n",
       "      <th>condition</th>\n",
       "      <th>review</th>\n",
       "      <th>rating</th>\n",
       "      <th>date</th>\n",
       "      <th>usefulCount</th>\n",
       "    </tr>\n",
       "  </thead>\n",
       "  <tbody>\n",
       "    <tr>\n",
       "      <th>0</th>\n",
       "      <td>206461</td>\n",
       "      <td>Valsartan</td>\n",
       "      <td>Left Ventricular Dysfunction</td>\n",
       "      <td>\"It has no side effect, I take it in combinati...</td>\n",
       "      <td>9</td>\n",
       "      <td>20-May-12</td>\n",
       "      <td>27</td>\n",
       "    </tr>\n",
       "    <tr>\n",
       "      <th>1</th>\n",
       "      <td>95260</td>\n",
       "      <td>Guanfacine</td>\n",
       "      <td>ADHD</td>\n",
       "      <td>\"My son is halfway through his fourth week of ...</td>\n",
       "      <td>8</td>\n",
       "      <td>27-Apr-10</td>\n",
       "      <td>192</td>\n",
       "    </tr>\n",
       "    <tr>\n",
       "      <th>2</th>\n",
       "      <td>92703</td>\n",
       "      <td>Lybrel</td>\n",
       "      <td>Birth Control</td>\n",
       "      <td>\"I used to take another oral contraceptive, wh...</td>\n",
       "      <td>5</td>\n",
       "      <td>14-Dec-09</td>\n",
       "      <td>17</td>\n",
       "    </tr>\n",
       "  </tbody>\n",
       "</table>\n",
       "</div>"
      ],
      "text/plain": [
       "   uniqueID    drugName                     condition  \\\n",
       "0    206461   Valsartan  Left Ventricular Dysfunction   \n",
       "1     95260  Guanfacine                          ADHD   \n",
       "2     92703      Lybrel                 Birth Control   \n",
       "\n",
       "                                              review  rating       date  \\\n",
       "0  \"It has no side effect, I take it in combinati...       9  20-May-12   \n",
       "1  \"My son is halfway through his fourth week of ...       8  27-Apr-10   \n",
       "2  \"I used to take another oral contraceptive, wh...       5  14-Dec-09   \n",
       "\n",
       "   usefulCount  \n",
       "0           27  \n",
       "1          192  \n",
       "2           17  "
      ]
     },
     "execution_count": 10,
     "metadata": {},
     "output_type": "execute_result"
    }
   ],
   "source": [
    "combined.head(3)"
   ]
  },
  {
   "cell_type": "code",
   "execution_count": 106,
   "metadata": {
    "scrolled": true
   },
   "outputs": [
    {
     "data": {
      "text/plain": [
       "drugName\n",
       "A + D Cracked Skin Relief                            10\n",
       "A / B Otic                                           10\n",
       "Abacavir / dolutegravir / lamivudine                 10\n",
       "Abacavir / lamivudine                                10\n",
       "Abacavir / lamivudine / zidovudine                    9\n",
       "Abatacept                                            10\n",
       "Abilify                                              10\n",
       "Abilify Discmelt                                      9\n",
       "Abilify Maintena                                     10\n",
       "Abiraterone                                          10\n",
       "AbobotulinumtoxinA                                   10\n",
       "Abraxane                                             10\n",
       "Abreva                                               10\n",
       "Absorbine Jr.                                        10\n",
       "Absorica                                             10\n",
       "Abstral                                               4\n",
       "Acamprosate                                          10\n",
       "Acanya                                               10\n",
       "Acarbose                                              8\n",
       "Accolate                                             10\n",
       "Accupril                                              5\n",
       "Accutane                                             10\n",
       "Acebutolol                                           10\n",
       "Acetaminophen                                        10\n",
       "Acetaminophen / aspirin                               9\n",
       "Acetaminophen / aspirin / caffeine                   10\n",
       "Acetaminophen / aspirin / caffeine / salicylamide    10\n",
       "Acetaminophen / butalbital                           10\n",
       "Acetaminophen / butalbital / caffeine                10\n",
       "Acetaminophen / butalbital / caffeine / codeine      10\n",
       "                                                     ..\n",
       "Zostrix Diabetic Foot Pain                            1\n",
       "Zosyn                                                 9\n",
       "Zovia                                                10\n",
       "Zovia 1 / 35                                         10\n",
       "Zovia 1 / 50                                         10\n",
       "Zovirax                                              10\n",
       "Zovirax Cream                                        10\n",
       "Zovirax Ointment                                     10\n",
       "Zubsolv                                              10\n",
       "Zurampic                                             10\n",
       "Zutripro                                             10\n",
       "Zyban                                                10\n",
       "Zyclara                                              10\n",
       "Zylet                                                10\n",
       "Zyloprim                                              9\n",
       "Zymar                                                10\n",
       "Zymine                                               10\n",
       "Zyprexa                                              10\n",
       "Zyprexa Intramuscular                                 8\n",
       "Zyprexa Zydis                                        10\n",
       "Zyrtec                                               10\n",
       "Zyrtec-D                                             10\n",
       "Zyrtec-D 12 Hour                                     10\n",
       "Zytiga                                               10\n",
       "Zyvox                                                10\n",
       "ZzzQuil                                               4\n",
       "depo-subQ provera 104                                10\n",
       "ella                                                 10\n",
       "femhrt                                               10\n",
       "pHisoHex                                             10\n",
       "Name: rating, Length: 3671, dtype: int64"
      ]
     },
     "execution_count": 106,
     "metadata": {},
     "output_type": "execute_result"
    }
   ],
   "source": [
    "combined.groupby(['drugName'])['rating'].max()"
   ]
  },
  {
   "cell_type": "code",
   "execution_count": 11,
   "metadata": {},
   "outputs": [],
   "source": [
    "import matplotlib.pyplot as plt\n",
    "%matplotlib inline"
   ]
  },
  {
   "cell_type": "code",
   "execution_count": 29,
   "metadata": {
    "scrolled": true
   },
   "outputs": [
    {
     "data": {
      "text/plain": [
       "Levonorgestrel                                                    4930\n",
       "Etonogestrel                                                      4421\n",
       "Ethinyl estradiol / norethindrone                                 3753\n",
       "Nexplanon                                                         2892\n",
       "Ethinyl estradiol / norgestimate                                  2790\n",
       "Ethinyl estradiol / levonorgestrel                                2503\n",
       "Phentermine                                                       2085\n",
       "Sertraline                                                        1868\n",
       "Escitalopram                                                      1747\n",
       "Mirena                                                            1673\n",
       "Implanon                                                          1506\n",
       "Gabapentin                                                        1415\n",
       "Bupropion                                                         1369\n",
       "Miconazole                                                        1344\n",
       "Venlafaxine                                                       1338\n",
       "Citalopram                                                        1308\n",
       "Medroxyprogesterone                                               1308\n",
       "Duloxetine                                                        1256\n",
       "Lexapro                                                           1250\n",
       "Bupropion / naltrexone                                            1249\n",
       "Contrave                                                          1215\n",
       "Metronidazole                                                     1207\n",
       "Drospirenone / ethinyl estradiol                                  1184\n",
       "Depo-Provera                                                      1155\n",
       "Clonazepam                                                        1146\n",
       "Cymbalta                                                          1142\n",
       "Tramadol                                                          1138\n",
       "Varenicline                                                       1090\n",
       "Zoloft                                                            1086\n",
       "Quetiapine                                                        1077\n",
       "                                                                  ... \n",
       "Ery Pads                                                             1\n",
       "ReliOn / Novolin 70 / 30                                             1\n",
       "Clioquinol / hydrocortisone                                          1\n",
       "Ferrlecit                                                            1\n",
       "Nutraplus                                                            1\n",
       "Solarcaine First Aid Medicated Spray                                 1\n",
       "Acetaminophen / dextromethorphan / guaifenesin / phenylephrine       1\n",
       "Benadryl Allergy Sinus                                               1\n",
       "Phenohytro                                                           1\n",
       "LMX 4                                                                1\n",
       "FluMist Quadrivalent                                                 1\n",
       "Dexpanthenol                                                         1\n",
       "Uniretic                                                             1\n",
       "Acetohydroxamic acid                                                 1\n",
       "Bioflavonoids / zinc glycinate                                       1\n",
       "Scullcap                                                             1\n",
       "Copegus                                                              1\n",
       "Atropine                                                             1\n",
       "BP Wash                                                              1\n",
       "Imotil                                                               1\n",
       "Midamor                                                              1\n",
       "Pyrimethamine / sulfadoxine                                          1\n",
       "MVI Adult                                                            1\n",
       "Lanolin                                                              1\n",
       "Pyridoxine                                                           1\n",
       "AirDuo Respiclick                                                    1\n",
       "Prednicot                                                            1\n",
       "Ergomar                                                              1\n",
       "Nexium IV                                                            1\n",
       "Advil Migraine                                                       1\n",
       "Name: drugName, Length: 3671, dtype: int64"
      ]
     },
     "execution_count": 29,
     "metadata": {},
     "output_type": "execute_result"
    }
   ],
   "source": [
    "combined['drugName'].value_counts()"
   ]
  },
  {
   "cell_type": "code",
   "execution_count": 15,
   "metadata": {},
   "outputs": [
    {
     "data": {
      "image/png": "[encoded data removed]",
      "text/plain": [
       "<Figure size 432x288 with 1 Axes>"
      ]
     },
     "metadata": {
      "needs_background": "light"
     },
     "output_type": "display_data"
    }
   ],
   "source": [
    "#levonorgestrel is the most drugname used\n",
    "combined['drugName'].value_counts().head(10).plot.bar();"
   ]
  },
  {
   "cell_type": "code",
   "execution_count": 45,
   "metadata": {},
   "outputs": [
    {
     "data": {
      "image/png": "[encoded data removed]",
      "text/plain": [
       "<Figure size 432x288 with 1 Axes>"
      ]
     },
     "metadata": {
      "needs_background": "light"
     },
     "output_type": "display_data"
    }
   ],
   "source": [
    "# the percentage of each drugname to all datab\n",
    "(combined['drugName'].value_counts().head(10) / len(combined)).plot.bar();"
   ]
  },
  {
   "cell_type": "code",
   "execution_count": null,
   "metadata": {},
   "outputs": [],
   "source": []
  },
  {
   "cell_type": "code",
   "execution_count": 30,
   "metadata": {},
   "outputs": [
    {
     "data": {
      "text/plain": [
       "10    68005\n",
       "9     36708\n",
       "1     28918\n",
       "8     25046\n",
       "7     12547\n",
       "5     10723\n",
       "2      9265\n",
       "3      8718\n",
       "6      8462\n",
       "4      6671\n",
       "Name: rating, dtype: int64"
      ]
     },
     "execution_count": 30,
     "metadata": {},
     "output_type": "execute_result"
    }
   ],
   "source": [
    "combined['rating'].value_counts()"
   ]
  },
  {
   "cell_type": "code",
   "execution_count": 14,
   "metadata": {},
   "outputs": [
    {
     "data": {
      "image/png": "[encoded data removed]",
      "text/plain": [
       "<Figure size 432x288 with 1 Axes>"
      ]
     },
     "metadata": {
      "needs_background": "light"
     },
     "output_type": "display_data"
    }
   ],
   "source": [
    "combined['rating'].value_counts().head(10).plot.bar();"
   ]
  },
  {
   "cell_type": "code",
   "execution_count": 44,
   "metadata": {},
   "outputs": [
    {
     "data": {
      "text/plain": [
       "10    2924\n",
       "9      309\n",
       "8      139\n",
       "1      103\n",
       "7       54\n",
       "5       50\n",
       "2       25\n",
       "6       25\n",
       "3       23\n",
       "4       19\n",
       "Name: rating, dtype: int64"
      ]
     },
     "execution_count": 44,
     "metadata": {},
     "output_type": "execute_result"
    }
   ],
   "source": [
    "combined.groupby(combined['drugName'])['rating'].max().value_counts().sort_values(ascending=False)"
   ]
  },
  {
   "cell_type": "code",
   "execution_count": 28,
   "metadata": {},
   "outputs": [
    {
     "data": {
      "image/png": "[encoded data removed]",
      "text/plain": [
       "<Figure size 432x288 with 1 Axes>"
      ]
     },
     "metadata": {
      "needs_background": "light"
     },
     "output_type": "display_data"
    }
   ],
   "source": [
    "combined.groupby(combined['drugName'])['rating'].value_counts().head(10).plot.bar();"
   ]
  },
  {
   "cell_type": "code",
   "execution_count": null,
   "metadata": {},
   "outputs": [],
   "source": []
  }
 ],
 "metadata": {
  "kernelspec": {
   "display_name": "Python 3",
   "language": "python",
   "name": "python3"
  },
  "language_info": {
   "codemirror_mode": {
    "name": "ipython",
    "version": 3
   },
   "file_extension": ".py",
   "mimetype": "text/x-python",
   "name": "python",
   "nbconvert_exporter": "python",
   "pygments_lexer": "ipython3",
   "version": "3.6.5"
  }
 },
 "nbformat": 4,
 "nbformat_minor": 2
}
